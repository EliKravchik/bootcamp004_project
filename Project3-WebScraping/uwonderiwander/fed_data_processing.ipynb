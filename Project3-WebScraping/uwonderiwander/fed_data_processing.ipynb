{
 "cells": [
  {
   "cell_type": "code",
   "execution_count": 41,
   "metadata": {
    "collapsed": true
   },
   "outputs": [],
   "source": [
    "import xlrd\n",
    "book = xlrd.open_workbook('PET_PRI_GND_A_EPM0_PTE_DPGAL_W.xls')\n"
   ]
  },
  {
   "cell_type": "code",
   "execution_count": 68,
   "metadata": {
    "collapsed": false,
    "scrolled": true
   },
   "outputs": [
    {
     "name": "stdout",
     "output_type": "stream",
     "text": [
      "<xlrd.sheet.Sheet object at 0x10649ff50>\n",
      "1197\n",
      "First row: Data 1: Retail\n",
      "Hdr1: [u'Sourcekey', u'EMM_EPM0_PTE_NUS_DPG']\n",
      "Hdr2: [u'Date', u'Weekly U.S. All Grades All Formulations Retail Gasoline Prices  (Dollars per Gallon)']\n",
      "Col Cnt 2\n",
      "Hdr loop 0 , sheet_count 0\n",
      "Hdr loop 1 , sheet_count 0\n",
      "<xlrd.sheet.Sheet object at 0x10649ffd0>\n",
      "1197\n",
      "First row: Data 2: Regions\n",
      "Hdr1: [u'Sourcekey', u'EMM_EPM0_PTE_R10_DPG', u'EMM_EPM0_PTE_R1X_DPG', u'EMM_EPM0_PTE_R1Y_DPG', u'EMM_EPM0_PTE_R1Z_DPG', u'EMM_EPM0_PTE_R20_DPG', u'EMM_EPM0_PTE_R30_DPG', u'EMM_EPM0_PTE_R40_DPG', u'EMM_EPM0_PTE_R50_DPG', u'EMM_EPM0_PTE_R5XCA_DPG']\n",
      "Hdr2: [u'Date', u'Weekly East Coast All Grades All Formulations Retail Gasoline Prices  (Dollars per Gallon)', u'Weekly New England (PADD 1A) All Grades All Formulations Retail Gasoline Prices  (Dollars per Gallon)', u'Weekly Central Atlantic (PADD 1B) All Grades All Formulations Retail Gasoline Prices  (Dollars per Gallon)', u'Weekly Lower Atlantic (PADD 1C) All Grades All Formulations Retail Gasoline Prices  (Dollars per Gallon)', u'Weekly Midwest All Grades All Formulations Retail Gasoline Prices  (Dollars per Gallon)', u'Weekly Gulf Coast All Grades All Formulations Retail Gasoline Prices  (Dollars per Gallon)', u'Weekly Rocky Mountain All Grades All Formulations Retail Gasoline Prices  (Dollars per Gallon)', u'Weekly West Coast All Grades All Formulations Retail Gasoline Prices  (Dollars per Gallon)', u'Weekly West Coast (PADD 5) Except California All Grades All Formulations Retail Gasoline Prices  (Dollars per Gallon)']\n",
      "Col Cnt 10\n",
      "Hdr loop 0 , sheet_count 1\n",
      "Hdr loop 1 , sheet_count 1\n",
      "Hdr loop 2 , sheet_count 1\n",
      "Hdr loop 3 , sheet_count 1\n",
      "Hdr loop 4 , sheet_count 1\n",
      "Hdr loop 5 , sheet_count 1\n",
      "Hdr loop 6 , sheet_count 1\n",
      "Hdr loop 7 , sheet_count 1\n",
      "Hdr loop 8 , sheet_count 1\n",
      "Hdr loop 9 , sheet_count 1\n",
      "<xlrd.sheet.Sheet object at 0x106847090>\n",
      "825\n",
      "First row: Data 3: States\n",
      "Hdr1: [u'Sourcekey', u'EMM_EPM0_PTE_SCA_DPG', u'EMM_EPM0_PTE_SCO_DPG', u'EMM_EPM0_PTE_SFL_DPG', u'EMM_EPM0_PTE_SMA_DPG', u'EMM_EPM0_PTE_SMN_DPG', u'EMM_EPM0_PTE_SNY_DPG', u'EMM_EPM0_PTE_SOH_DPG', u'EMM_EPM0_PTE_STX_DPG', u'EMM_EPM0_PTE_SWA_DPG']\n",
      "Hdr2: [u'Date', u'Weekly California All Grades All Formulations Retail Gasoline Prices  (Dollars per Gallon)', u'Weekly Colorado All Grades All Formulations Retail Gasoline Prices  (Dollars per Gallon)', u'Weekly Florida All Grades All Formulations Retail Gasoline Prices  (Dollars per Gallon)', u'Weekly Massachusetts All Grades All Formulations Retail Gasoline Prices  (Dollars per Gallon)', u'Weekly Minnesota All Grades All Formulations Retail Gasoline Prices  (Dollars per Gallon)', u'Weekly New York All Grades All Formulations Retail Gasoline Prices  (Dollars per Gallon)', u'Weekly Ohio All Grades All Formulations Retail Gasoline Prices  (Dollars per Gallon)', u'Weekly Texas All Grades All Formulations Retail Gasoline Prices  (Dollars per Gallon)', u'Weekly Washington All Grades All Formulations Retail Gasoline Prices  (Dollars per Gallon)']\n",
      "Col Cnt 10\n",
      "Hdr loop 0 , sheet_count 2\n",
      "Hdr loop 1 , sheet_count 2\n",
      "Hdr loop 2 , sheet_count 2\n",
      "Hdr loop 3 , sheet_count 2\n",
      "Hdr loop 4 , sheet_count 2\n",
      "Hdr loop 5 , sheet_count 2\n",
      "Hdr loop 6 , sheet_count 2\n",
      "Hdr loop 7 , sheet_count 2\n",
      "Hdr loop 8 , sheet_count 2\n",
      "Hdr loop 9 , sheet_count 2\n",
      "<xlrd.sheet.Sheet object at 0x106847110>\n",
      "823\n",
      "First row: Data 4: Cities\n",
      "Hdr1: [u'Sourcekey', u'EMM_EPM0_PTE_YBOS_DPG', u'EMM_EPM0_PTE_YORD_DPG', u'EMM_EPM0_PTE_YCLE_DPG', u'EMM_EPM0_PTE_YDEN_DPG', u'EMM_EPM0_PTE_Y44HO_DPG', u'EMM_EPM0_PTE_Y05LA_DPG', u'EMM_EPM0_PTE_YMIA_DPG', u'EMM_EPM0_PTE_Y35NY_DPG', u'EMM_EPM0_PTE_Y05SF_DPG', u'EMM_EPM0_PTE_Y48SE_DPG']\n",
      "Hdr2: [u'Date', u'Weekly Boston, MA All Grades All Formulations Retail Gasoline Prices  (Dollars per Gallon)', u'Weekly Chicago All Grades All Formulations Retail Gasoline Prices  (Dollars per Gallon)', u'Weekly Cleveland, OH All Grades All Formulations Retail Gasoline Prices  (Dollars per Gallon)', u'Weekly Denver All Grades All Formulations Retail Gasoline Prices  (Dollars per Gallon)', u'Weekly Houston All Grades All Formulations Retail Gasoline Prices  (Dollars per Gallon)', u'Weekly Los Angeles All Grades All Formulations Retail Gasoline Prices  (Dollars per Gallon)', u'Weekly Miami, FL All Grades All Formulations Retail Gasoline Prices  (Dollars per Gallon)', u'Weekly New York City All Grades All Formulations Retail Gasoline Prices  (Dollars per Gallon)', u'Weekly San Francisco All Grades All Formulations Retail Gasoline Prices  (Dollars per Gallon)', u'Weekly Seattle, WA All Grades All Formulations Retail Gasoline Prices  (Dollars per Gallon)']\n",
      "Col Cnt 11\n",
      "Hdr loop 0 , sheet_count 3\n",
      "Hdr loop 1 , sheet_count 3\n",
      "Hdr loop 2 , sheet_count 3\n",
      "Hdr loop 3 , sheet_count 3\n",
      "Hdr loop 4 , sheet_count 3\n",
      "Hdr loop 5 , sheet_count 3\n",
      "Hdr loop 6 , sheet_count 3\n",
      "Hdr loop 7 , sheet_count 3\n",
      "Hdr loop 8 , sheet_count 3\n",
      "Hdr loop 9 , sheet_count 3\n",
      "Hdr loop 10 , sheet_count 3\n"
     ]
    }
   ],
   "source": [
    "sheet_count = 0\n",
    "book_meta_hdr = {}\n",
    "for sheet in book.sheets(): \n",
    "    sheet_name = sheet.name \n",
    "    if sheet.name in {'Contents'}:\n",
    "        continue\n",
    "    sheet_obj = 'sheet'+str(sheet_count)\n",
    "    sheet_obj = book.sheet_by_name(sheet.name)\n",
    "    print sheet_obj\n",
    "    print sheet_obj.nrows\n",
    "    for i in range(sheet_obj.nrows):\n",
    "        if i == 0:\n",
    "            print \"First row: %s\" %sheet_obj.row_values(i)[1]\n",
    "            sheet_type = sheet_obj.row_values(i)[1]\n",
    "            continue\n",
    "        elif i == 1:\n",
    "            sheet_hdr1 = sheet_obj.row_values(i)\n",
    "            print \"Hdr1: %s\" %sheet_hdr1\n",
    "        elif i == 2:\n",
    "            sheet_hdr2 = sheet_obj.row_values(i)\n",
    "            print \"Hdr2: %s\" %sheet_hdr2\n",
    "            column_count = len(sheet_obj.row_values(i))\n",
    "            print \"Col Cnt %d\" %column_count\n",
    "            for k in range(column_count):\n",
    "                print \"Hdr loop %d , sheet_count %d\" %(k, sheet_count)\n",
    "                book_meta_hdr[len(book_meta_hdr)] = {\\\n",
    "                        'index': k,\\\n",
    "                        'type': sheet_type,\\\n",
    "                        'name': sheet_name,\\\n",
    "                        'short_header': sheet_hdr1[k],\\\n",
    "                        'long_header': sheet_hdr2[k]\n",
    "                                             }\n",
    "        else:\n",
    "#            print \"Row[%d]: %s\" %(i, sheet_obj.row_values(i))\n",
    "#            print \"Date: %s\" %sheet_obj.row_values(i)[0]\n",
    "            for j in range(column_count):\n",
    "                if j == 0:\n",
    "                    year, month, day, hour, minute, second = xlrd.xldate_as_tuple(sheet_obj.row_values(i)[j], book.datemode)\n",
    "                    if year > 1999:\n",
    "                        continue\n",
    "                        #print \"%s/%s/%s\" %(year, month, day)\n",
    "                        \n",
    "                else:\n",
    "                    if year > 1999:\n",
    "                        continue\n",
    "                        #print sheet_obj.row_values(i)[j]\n",
    "    sheet_count += 1 \n",
    "                    "
   ]
  },
  {
   "cell_type": "code",
   "execution_count": 73,
   "metadata": {
    "collapsed": false
   },
   "outputs": [
    {
     "name": "stdout",
     "output_type": "stream",
     "text": [
      "33\n"
     ]
    }
   ],
   "source": [
    "print len(book_meta_hdr)\n",
    "book_meta_hdr\n",
    "#book_meta_hdr.to_csv('fed_data_header.csv')\n",
    "import csv\n",
    "\n",
    "with open('fed_data_header.csv', 'w') as f:\n",
    "    [f.write('{0},{1}\\n'.format(key, value)) for key, value in book_meta_hdr.items()]\n"
   ]
  },
  {
   "cell_type": "code",
   "execution_count": 5,
   "metadata": {
    "collapsed": false
   },
   "outputs": [
    {
     "name": "stdout",
     "output_type": "stream",
     "text": [
      "<xlrd.sheet.Sheet object at 0x1063b9250>\n",
      "1197\n"
     ]
    }
   ],
   "source": []
  },
  {
   "cell_type": "code",
   "execution_count": null,
   "metadata": {
    "collapsed": true
   },
   "outputs": [],
   "source": []
  }
 ],
 "metadata": {
  "kernelspec": {
   "display_name": "Python 2",
   "language": "python",
   "name": "python2"
  },
  "language_info": {
   "codemirror_mode": {
    "name": "ipython",
    "version": 2
   },
   "file_extension": ".py",
   "mimetype": "text/x-python",
   "name": "python",
   "nbconvert_exporter": "python",
   "pygments_lexer": "ipython2",
   "version": "2.7.11"
  }
 },
 "nbformat": 4,
 "nbformat_minor": 0
}
