{
 "cells": [
  {
   "cell_type": "code",
   "execution_count": 1,
   "metadata": {
    "collapsed": false
   },
   "outputs": [],
   "source": [
    "from bs4 import BeautifulSoup\n",
    "from decimal import *\n",
    "import requests\n",
    "import requests\n",
    "import numpy as np\n",
    "import pandas as pd\n",
    "import unicodedata as ud\n",
    "import re\n",
    "import urllib2\n",
    "import codecs\n",
    "import math\n"
   ]
  },
  {
   "cell_type": "code",
   "execution_count": 2,
   "metadata": {
    "collapsed": false
   },
   "outputs": [
    {
     "name": "stderr",
     "output_type": "stream",
     "text": [
      "/Users/satishjoshi/anaconda/lib/python2.7/site-packages/bs4/__init__.py:166: UserWarning: No parser was explicitly specified, so I'm using the best available HTML parser for this system (\"lxml\"). This usually isn't a problem, but if you run this code on another system, or in a different virtual environment, it may use a different parser and behave differently.\n",
      "\n",
      "To get rid of this warning, change this:\n",
      "\n",
      " BeautifulSoup([your markup])\n",
      "\n",
      "to this:\n",
      "\n",
      " BeautifulSoup([your markup], \"lxml\")\n",
      "\n",
      "  markup_type=markup_type))\n"
     ]
    }
   ],
   "source": [
    "def save_string_field(dict, key, value, def_str, preamble):\n",
    "    if len(value) > 0:\n",
    "        if preamble == \"\":\n",
    "            dict[key] = ud.normalize('NFKD', value).encode('ascii', 'ignore')\n",
    "        else:\n",
    "            dict[key] = preamble+value\n",
    "    else: \n",
    "        dict[key] = def_str\n",
    "\n",
    "def save_numeric_field(dict, key, value):\n",
    "    if len(value) > 0:\n",
    "        dict[key] = int(ud.normalize('NFKD', value).encode('ascii', 'ignore').replace(',', ''))\n",
    "    else: \n",
    "        dict[key] = 0\n",
    "\n",
    "def save_percent_field(dict, key, value):\n",
    "    if len(value) > 0:\n",
    "        dict[key] = int(ud.normalize('NFKD', value).encode('ascii', 'ignore').replace('%', ''))\n",
    "    else: \n",
    "        dict[key] = 0\n",
    "\n",
    "def save_millions_field(dict, key, value):\n",
    "    nonBreakSpace = u'\\xa0'\n",
    "    value = value.strip(nonBreakSpace)\n",
    "    if len(value) > 0:\n",
    "        dict[key] = int(ud.normalize('NFKD', value).encode('ascii', 'ignore').replace(',', '').\\\n",
    "            replace('$','').replace(' million',''))\n",
    "    else: \n",
    "        dict[key] = 0\n",
    "\n",
    "response = urllib2.urlopen('http://www.ttnews.com/top50/globalfreight/')\n",
    "html = response.read()\n",
    "soup = BeautifulSoup(html)\n",
    "global_freight_columns = ['Rank2015', 'CompanyName', 'Link', 'Headquarters',\\\n",
    "                    'FreightRevenue', 'TotalRevenue', 'FreightRevPercent']\n",
    "global_freight = pd.DataFrame(data=np.zeros((0,len(global_freight_columns))), columns=global_freight_columns)\n",
    "global_freight_table = soup.find(id= \"rankings_box\")\n",
    "for row in global_freight_table.findAll('tr'):\n",
    "    col = row.findAll('td')\n",
    "    data_dict = {}\n",
    "    j = 0\n",
    "    for field in col:\n",
    "        data_dict[\"Link\"] =  \"\"\n",
    "        if j == 0:\n",
    "            if field.get_text().isnumeric():\n",
    "                save_numeric_field(data_dict, \"Rank2015\", field.get_text())\n",
    "            else:\n",
    "                break\n",
    "        elif j == 1:\n",
    "            save_string_field(data_dict, \"CompanyName\", field.get_text(), \"Unknown\",\"\")\n",
    "        elif j == 2:\n",
    "            save_string_field(data_dict, \"Headquarters\", field.get_text(),\"Unknown\",\"\" )\n",
    "        elif j == 3:\n",
    "            save_millions_field(data_dict, \"FreightRevenue\", field.get_text())\n",
    "        elif j == 4:\n",
    "            save_millions_field(data_dict, \"TotalRevenue\", field.get_text())\n",
    "        else :\n",
    "            save_percent_field(data_dict, \"FreightRevPercent\", field.get_text())\n",
    "        j = j + 1\n",
    "    single = pd.DataFrame([data_dict], columns=global_freight_columns)\n",
    "#    print single\n",
    "    global_freight = global_freight.append(single)\n",
    "global_freight.to_csv('global_freight.csv')"
   ]
  },
  {
   "cell_type": "code",
   "execution_count": null,
   "metadata": {
    "collapsed": true
   },
   "outputs": [],
   "source": []
  },
  {
   "cell_type": "code",
   "execution_count": null,
   "metadata": {
    "collapsed": true
   },
   "outputs": [],
   "source": []
  }
 ],
 "metadata": {
  "kernelspec": {
   "display_name": "Python 2",
   "language": "python",
   "name": "python2"
  },
  "language_info": {
   "codemirror_mode": {
    "name": "ipython",
    "version": 2
   },
   "file_extension": ".py",
   "mimetype": "text/x-python",
   "name": "python",
   "nbconvert_exporter": "python",
   "pygments_lexer": "ipython2",
   "version": "2.7.11"
  }
 },
 "nbformat": 4,
 "nbformat_minor": 0
}
