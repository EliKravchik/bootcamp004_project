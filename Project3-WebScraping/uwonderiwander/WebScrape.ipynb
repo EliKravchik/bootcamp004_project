{
 "cells": [
  {
   "cell_type": "code",
   "execution_count": 460,
   "metadata": {
    "collapsed": true
   },
   "outputs": [],
   "source": [
    "from bs4 import BeautifulSoup\n",
    "import requests\n",
    "import numpy as np\n",
    "import pandas as pd\n",
    "import unicodedata as ud\n",
    "import re\n",
    "\n"
   ]
  },
  {
   "cell_type": "code",
   "execution_count": 461,
   "metadata": {
    "collapsed": false
   },
   "outputs": [],
   "source": [
    "top_price_table = pd.DataFrame.from_csv('price_table.csv')\n",
    "doe_price_table = pd.DataFrame.from_csv('doe_values.csv')\n",
    "com_price_table = pd.DataFrame.from_csv('com_values.csv')\n",
    "for_hire_table = pd.DataFrame.from_csv('for_hire.csv')\n",
    "private_fleet_table = pd.DataFrame.from_csv('private_fleet.csv')\n",
    "logistics_table = pd.DataFrame.from_csv('logistics.csv')\n",
    "freight_table = pd.DataFrame.from_csv('global_freight.csv')"
   ]
  },
  {
   "cell_type": "code",
   "execution_count": 462,
   "metadata": {
    "collapsed": false
   },
   "outputs": [],
   "source": [
    "def convert_to_hundreds(value):\n",
    "    if value > 10.0:\n",
    "        return value / 100.0\n",
    "    else:\n",
    "        return value\n",
    "\n",
    "for key in doe_price_table.columns[3:13]:\n",
    "    doe_price_table[key] = doe_price_table[key].\\\n",
    "        apply(convert_to_hundreds)\n",
    "for key in com_price_table.columns[3:6]:\n",
    "    com_price_table[key] = com_price_table[key].\\\n",
    "        apply(convert_to_hundreds)\n"
   ]
  },
  {
   "cell_type": "code",
   "execution_count": 463,
   "metadata": {
    "collapsed": false
   },
   "outputs": [],
   "source": [
    "com_price_table = com_price_table[com_price_table.Year != 2000]\n",
    "doe_price_table = doe_price_table[doe_price_table.Year != 2000]"
   ]
  },
  {
   "cell_type": "code",
   "execution_count": 464,
   "metadata": {
    "collapsed": false
   },
   "outputs": [],
   "source": [
    "index_number = np.arange(1,com_price_table.shape[0]+1)\n",
    "com_price_table.index = index_number\n",
    "index_number = np.arange(1,doe_price_table.shape[0]+1)\n",
    "doe_price_table.index = index_number\n",
    "if len(com_price_table['Week Ending'] == '12/30/2000-1/5/2001') != 0:\n",
    "    index1 = com_price_table[com_price_table['Week Ending'] == '12/30/2000-1/5/2001'].index\n",
    "    index2 = com_price_table.iloc[[-1]].index\n",
    "    com_price_table.loc[index1[0]:index2[0],'Year'] = '2000'\n",
    "#    print \"1: %s, 2: %s\" % (com_price_table.loc[index1[0]:index2[0],'Year'],  'junk')\n",
    "if len(doe_price_table['Date'] == '1/1/2001') != 0:\n",
    "    index1 = doe_price_table[doe_price_table['Date'] == '1/1/2001'].index\n",
    "    index2 = doe_price_table.iloc[[-1]].index\n",
    "    doe_price_table.loc[index1[1]:index2[0],'Year'] = '2000'\n",
    "#    print \"1: %s, 2: %s\" % (doe_price_table.loc[index1[1]:index2[0],'Year'],  'junk')"
   ]
  },
  {
   "cell_type": "code",
   "execution_count": 465,
   "metadata": {
    "collapsed": false
   },
   "outputs": [],
   "source": [
    "\n",
    "def CleanupDates(data, key1, key2, set_col):    \n",
    "    for index, item, year in zip(data.index,data[key1], data[key2]):\n",
    "        count = len(re.findall(r\"/\", item))\n",
    "        if count > 1:\n",
    "#        print \"Item is - %s %s %s\" %(year, item, re.findall(r\"/\", item))\n",
    "            if count == 2:\n",
    "#            print \"Item 2 - %s %s %s\" %(year, item, re.findall(r\"/\", item))\n",
    "                if len(re.findall(r\"-\", item)) == 1:\n",
    "                #3/19 - 3/23, 12/26 - 12/30, 7/2 - 7/6\n",
    "                    item = item[item.rfind(\"-\")+1:]\n",
    "#                print \"Two week  format: %s %s\" % (item, year)\n",
    "                else:\n",
    "#                print \"Year format: %s %s\" % (item, year)\n",
    "                    if item[-3] == '/':\n",
    "                    #1/4/13, 1/7/08, 12/26/11, 12/28/09, 1/2/06\n",
    "#                    print item\n",
    "                        item = item[: item.rfind(\"/\")]\n",
    "#                    print \"Two digit Year format: %s %s\" % (item, year)\n",
    "                    else:\n",
    "                    #1/1/2001, 12/29/2003, 9/1/2003\n",
    "#                    print item\n",
    "                        item = item[: item.rfind(\"/\")]\n",
    "#                    print \"Four digit Year format: %s %s\" % (item, year)                    \n",
    "            elif count == 3:\n",
    "            #1/3 - 1/7/11, 12/28 - 1/1/10, 12/29 - 1/2/09, 1/3-1/7/2005\n",
    "#            print item\n",
    "                item = item[item.rfind(\"-\")+1: item.rfind(\"/\")]\n",
    "#            print \"Item 3 - %s %s %s\" %(year, item, re.findall(r\"/\", item))\n",
    "            elif count == 4:\n",
    "            #1/2/12 - 1/6/12, 1/5/09 - 1/9/09, 1/7/08 - 1/11/08, 12/31/07 - 1/4/08\n",
    "            #12/29/2003-1/2/2004, 12/30/2002-1/04/2003, 12/31/2001-1/05/2002\n",
    "            #12/30/2000-1/5/2001, \n",
    "#            print item\n",
    "                item = item[item.rfind(\"-\")+1: item.rfind(\"/\")]\n",
    "#            print \"Item 4 - %s %s %s\" %(year, item, re.findall(r\"/\", item))\n",
    "            else:\n",
    "                item = '1/1/1969'\n",
    "#            print \"Unkown\"\n",
    "\n",
    "        else:\n",
    "#9/9-9-13, 4/22-28, 5/6-12, 5/13-19\n",
    "            if len(re.findall(r\"-\", item)) == 1:\n",
    "                item1 = item[:item.rfind(\"/\")+1]\n",
    "                item2 = item[item.rfind(\"-\")+1:]\n",
    "#            print \"Special case %s %s\" %(item1, item2)\n",
    "                item = item1+item2\n",
    "            if item == '9/9-9-13':\n",
    "                item = '9/13'\n",
    "        full_date = item +'/' + str(int(year))\n",
    "        data.iloc[index-1, data.columns.get_loc(set_col)] = full_date\n",
    "#        print \" %s %s %s\" % (index, full_date, data.iloc[index-1, data.columns.get_loc(set_col)] )\n"
   ]
  },
  {
   "cell_type": "code",
   "execution_count": 466,
   "metadata": {
    "collapsed": false
   },
   "outputs": [],
   "source": [
    "\n",
    "com_price_table['FullDate'] = 0\n",
    "#print com_price_table['FullDate']\n",
    "CleanupDates(com_price_table, 'Week Ending', 'Year', 'FullDate')    \n",
    "#9/9-9-13/2002\n",
    "doe_price_table['FullDate'] = 0\n",
    "CleanupDates(doe_price_table, 'Date', 'Year', 'FullDate')    \n"
   ]
  },
  {
   "cell_type": "code",
   "execution_count": 467,
   "metadata": {
    "collapsed": true
   },
   "outputs": [],
   "source": [
    "com_price_table.to_csv('com_price_table_clean.csv')\n",
    "doe_price_table.to_csv('doe_price_table_clean.csv')"
   ]
  },
  {
   "cell_type": "code",
   "execution_count": null,
   "metadata": {
    "collapsed": true
   },
   "outputs": [],
   "source": []
  },
  {
   "cell_type": "code",
   "execution_count": null,
   "metadata": {
    "collapsed": true
   },
   "outputs": [],
   "source": []
  }
 ],
 "metadata": {
  "kernelspec": {
   "display_name": "Python 2",
   "language": "python",
   "name": "python2"
  },
  "language_info": {
   "codemirror_mode": {
    "name": "ipython",
    "version": 2
   },
   "file_extension": ".py",
   "mimetype": "text/x-python",
   "name": "python",
   "nbconvert_exporter": "python",
   "pygments_lexer": "ipython2",
   "version": "2.7.11"
  }
 },
 "nbformat": 4,
 "nbformat_minor": 0
}
