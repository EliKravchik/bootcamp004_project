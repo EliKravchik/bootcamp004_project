{
 "cells": [
  {
   "cell_type": "code",
   "execution_count": 1,
   "metadata": {
    "collapsed": false
   },
   "outputs": [],
   "source": [
    "from bs4 import BeautifulSoup\n",
    "import requests\n",
    "import requests\n",
    "import numpy as np\n",
    "import pandas as pd\n",
    "import unicodedata as ud\n",
    "import re\n",
    "import urllib2\n",
    "import codecs\n",
    "import math\n"
   ]
  },
  {
   "cell_type": "code",
   "execution_count": 2,
   "metadata": {
    "collapsed": false
   },
   "outputs": [
    {
     "name": "stderr",
     "output_type": "stream",
     "text": [
      "/Users/satishjoshi/anaconda/lib/python2.7/site-packages/bs4/__init__.py:166: UserWarning: No parser was explicitly specified, so I'm using the best available HTML parser for this system (\"lxml\"). This usually isn't a problem, but if you run this code on another system, or in a different virtual environment, it may use a different parser and behave differently.\n",
      "\n",
      "To get rid of this warning, change this:\n",
      "\n",
      " BeautifulSoup([your markup])\n",
      "\n",
      "to this:\n",
      "\n",
      " BeautifulSoup([your markup], \"lxml\")\n",
      "\n",
      "  markup_type=markup_type))\n"
     ]
    }
   ],
   "source": [
    "def save_string_field(dict, key, value, def_str, preamble):\n",
    "    if len(value) > 0:\n",
    "        dict[key] = preamble+value\n",
    "    else: \n",
    "        dict[key] = def_str\n",
    "\n",
    "def save_numeric_field(dict, key, value):\n",
    "    if len(value) > 0:\n",
    "        dict[key] = int(ud.normalize('NFKD', value).encode('ascii', 'ignore').replace(',', ''))\n",
    "    else: \n",
    "        dict[key] = 0\n",
    "\n",
    "response = urllib2.urlopen('http://www.ttnews.com/top100/for-hire/')\n",
    "html = response.read()\n",
    "soup = BeautifulSoup(html)\n",
    "columns = ['Rank2015', 'Rank2014', 'CompanyName', 'Link', \\\n",
    "                    'Revenue', 'NetIncome', 'Employees', 'Tractors', 'Trailers']\n",
    "for_hire = pd.DataFrame(data=np.zeros((0,len(columns))), columns=columns)\n",
    "for_hire_table = soup.find(id= \"rankings_box\")\n",
    "for row in for_hire_table.findAll('tr'):\n",
    "    col = row.findAll('td')\n",
    "    data_dict = {}\n",
    "    j = 0\n",
    "    for field in col:\n",
    "        hrefs = field.findAll('a')\n",
    "        for link in hrefs:\n",
    "            save_string_field(data_dict, \"Link\", link.get('href'), \"\", \"http://www.ttnews.com\")\n",
    "        if j == 0:\n",
    "            if field.get_text().isnumeric():\n",
    "                save_numeric_field(data_dict, \"Rank2015\", field.get_text())\n",
    "            else:\n",
    "                break\n",
    "        elif j == 1:\n",
    "            save_numeric_field(data_dict, \"Rank2014\", field.get_text())\n",
    "        elif j == 2:\n",
    "            save_string_field(data_dict, \"CompanyName\", field.get_text(), \"Unknown\",\"\")\n",
    "        elif j == 3:\n",
    "            save_numeric_field(data_dict, \"Revenue\", field.get_text())\n",
    "        elif j == 4:\n",
    "            save_numeric_field(data_dict, \"NetIncome\", field.get_text())\n",
    "        elif j == 5:\n",
    "            save_numeric_field(data_dict, \"Employees\", field.get_text())\n",
    "        elif j == 6:\n",
    "            save_numeric_field(data_dict, \"Tractors\", field.get_text())\n",
    "        else :\n",
    "            save_numeric_field(data_dict, \"Trailers\", field.get_text())\n",
    "        j = j + 1\n",
    "    single = pd.DataFrame([data_dict], columns=columns)\n",
    "    for_hire = for_hire.append(single)\n",
    "for_hire.to_csv('for_hire.csv')"
   ]
  },
  {
   "cell_type": "code",
   "execution_count": null,
   "metadata": {
    "collapsed": true
   },
   "outputs": [],
   "source": []
  },
  {
   "cell_type": "code",
   "execution_count": null,
   "metadata": {
    "collapsed": true
   },
   "outputs": [],
   "source": []
  }
 ],
 "metadata": {
  "kernelspec": {
   "display_name": "Python 2",
   "language": "python",
   "name": "python2"
  },
  "language_info": {
   "codemirror_mode": {
    "name": "ipython",
    "version": 2
   },
   "file_extension": ".py",
   "mimetype": "text/x-python",
   "name": "python",
   "nbconvert_exporter": "python",
   "pygments_lexer": "ipython2",
   "version": "2.7.11"
  }
 },
 "nbformat": 4,
 "nbformat_minor": 0
}
